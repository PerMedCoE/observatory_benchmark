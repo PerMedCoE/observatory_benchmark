{
 "cells": [
  {
   "cell_type": "code",
   "execution_count": 4,
   "metadata": {},
   "outputs": [],
   "source": [
    "import numpy as np\n",
    "import pandas as pd\n",
    "\n",
    "# Define parameters\n",
    "domain_min, domain_max = -120, 120\n",
    "dx = 20  # voxel size in microns\n",
    "voxel_half = dx / 2  # center offset\n",
    "\n",
    "# Create the grid of points within the domain\n",
    "x_vals = np.arange(domain_min + voxel_half, domain_max, dx)\n",
    "y_vals = np.arange(domain_min + voxel_half, domain_max, dx)\n",
    "z_vals = np.arange(domain_min + voxel_half, domain_max, dx)\n",
    "\n",
    "# Generate voxel centers\n",
    "grid_points = np.array(np.meshgrid(x_vals, y_vals, z_vals)).T.reshape(-1, 3)\n",
    "\n",
    "# Filter out wall voxels to retain only internal voxels\n",
    "internal_voxels = []\n",
    "for x, y, z in grid_points:\n",
    "    if (domain_min + dx <= x <= domain_max - dx) and \\\n",
    "       (domain_min + dx <= y <= domain_max - dx) and \\\n",
    "       (domain_min + dx <= z <= domain_max - dx):\n",
    "        internal_voxels.append([x, y, z])\n",
    "\n",
    "# Select the first 1000 internal voxels for cell placement\n",
    "internal_voxels = np.array(internal_voxels)\n",
    "if len(internal_voxels) > 1000:\n",
    "    cell_positions = internal_voxels[:1000]\n",
    "else:\n",
    "    cell_positions = internal_voxels\n",
    "\n",
    "# Prepare the data with typeID set to 0\n",
    "cell_data = pd.DataFrame(cell_positions, columns=['x', 'y', 'z'])\n",
    "cell_data['typeID'] = 0\n",
    "\n",
    "# Write the data to CSV with the required header\n",
    "header = \"Error! Importing cells from a CSV file expects each row to be x,y,z,typeID.\"\n",
    "with open('/home/tntiniak/Work/github/Benchmarks/observatory_benchmark/multiscale_benchmark/2022_09_hackathon/Physicell/analysis/Diffusion_1kCells/cells.csv', 'w') as f:\n",
    "    f.write(header + '\\n')\n",
    "    cell_data.to_csv(f, index=False, header=False)\n",
    "\n"
   ]
  }
 ],
 "metadata": {
  "kernelspec": {
   "display_name": "Python 3",
   "language": "python",
   "name": "python3"
  },
  "language_info": {
   "codemirror_mode": {
    "name": "ipython",
    "version": 3
   },
   "file_extension": ".py",
   "mimetype": "text/x-python",
   "name": "python",
   "nbconvert_exporter": "python",
   "pygments_lexer": "ipython3",
   "version": "3.10.12"
  }
 },
 "nbformat": 4,
 "nbformat_minor": 2
}
