{
 "cells": [
  {
   "cell_type": "code",
   "execution_count": 3,
   "metadata": {},
   "outputs": [],
   "source": [
    "import pandas as pd\n",
    "# from plotnine import *\n",
    "# import plotnine as p9\n",
    "# import re\n",
    "# import argparse\n",
    "# import os\n",
    "import numpy as np\n",
    "# import pandas as pd\n",
    "import matplotlib.pyplot as plt\n",
    "from sklearn.preprocessing import MinMaxScaler, StandardScaler"
   ]
  },
  {
   "cell_type": "code",
   "execution_count": 4,
   "metadata": {},
   "outputs": [
    {
     "name": "stdout",
     "output_type": "stream",
     "text": [
      "      x    y    z     vol         diff  timestep\n",
      "13  0.0  0.0  0.0  8000.0     0.000000       0.0\n",
      "13  0.0  0.0  0.0  8000.0  5346.471857       0.1\n",
      "13  0.0  0.0  0.0  8000.0  5647.020864       0.2\n",
      "13  0.0  0.0  0.0  8000.0  5663.916063       0.3\n",
      "13  0.0  0.0  0.0  8000.0  5664.865818       0.4\n",
      "13  0.0  0.0  0.0  8000.0  5664.919208       0.5\n",
      "13  0.0  0.0  0.0  8000.0  5664.922209       0.6\n",
      "13  0.0  0.0  0.0  8000.0  5664.922378       0.7\n",
      "13  0.0  0.0  0.0  8000.0  5664.922387       0.8\n",
      "13  0.0  0.0  0.0  8000.0  5664.922388       0.9\n",
      "13  0.0  0.0  0.0  8000.0  5664.922388       1.0\n",
      "13  0.0  0.0  0.0  8000.0  5664.922388       2.0\n",
      "13  0.0  0.0  0.0  8000.0  5664.922388       3.0\n",
      "13  0.0  0.0  0.0  8000.0  5664.922388       4.0\n",
      "13  0.0  0.0  0.0  8000.0  5664.922388       5.0\n",
      "13  0.0  0.0  0.0  8000.0  5664.922388       6.0\n",
      "13  0.0  0.0  0.0  8000.0  5664.922388       7.0\n",
      "13  0.0  0.0  0.0  8000.0  5664.922388       8.0\n",
      "13  0.0  0.0  0.0  8000.0  5664.922388       9.0\n",
      "13  0.0  0.0  0.0  8000.0  5664.922388      10.0\n"
     ]
    },
    {
     "name": "stderr",
     "output_type": "stream",
     "text": [
      "/tmp/ipykernel_6369/186493123.py:8: SettingWithCopyWarning: \n",
      "A value is trying to be set on a copy of a slice from a DataFrame\n",
      "\n",
      "See the caveats in the documentation: https://pandas.pydata.org/pandas-docs/stable/user_guide/indexing.html#returning-a-view-versus-a-copy\n"
     ]
    }
   ],
   "source": [
    "def get_physicell_df(file):\n",
    "    df= pd.read_csv(file,index_col=0)\n",
    "    df = df.loc[df.index == 13]\n",
    "    timesteps = np.concatenate((np.linspace(0, 1, num=11)[:-1], np.arange(1, 11, 1)))\n",
    "    timesteps_rounded = np.round(timesteps, 2)\n",
    "    df['timestep_rounded'] = df['timestep'].round(2)\n",
    "    selected_rows = df[df['timestep_rounded'].isin(timesteps_rounded)]\n",
    "    selected_rows.drop('timestep_rounded', axis=1, inplace=True)\n",
    "    print(selected_rows)\n",
    "    return selected_rows\n",
    "def get_physicell_df_cells(file):\n",
    "    df= pd.read_csv(file,index_col=0)\n",
    "    df = df.loc[df.index == 13]\n",
    "    timesteps = np.concatenate((np.linspace(0, 1, num=11)[:-1], np.arange(1, 11, 1)))\n",
    "    timesteps_rounded = np.round(timesteps, 2)\n",
    "    df['timestep_rounded'] = df['timestep'].round(2)\n",
    "    selected_rows = df[df['timestep_rounded'].isin(timesteps_rounded)]\n",
    "    selected_rows.drop('timestep_rounded', axis=1, inplace=True)\n",
    "    print(selected_rows)\n",
    "    return selected_rows\n",
    "def get_physicell_df_not_rounded(file):\n",
    "    df= pd.read_csv(file,index_col=0)\n",
    "    df = df.loc[df.index == 13]\n",
    "    return df\n",
    "\n",
    "# pc_conc = get_physicell_df_not_rounded(args.pc_csv)\n",
    "pc_conc = get_physicell_df(\"../Physicell/output/new_results/diffusion_v1_U12044/microenv_single_diffusion.csv\")\n",
    "# pc_df_v1 = get_physicell_df(\"../Physicell/output/new_results/diffusion_v1_U12044//microenv_single_diffusion.csv\")"
   ]
  },
  {
   "cell_type": "code",
   "execution_count": 5,
   "metadata": {},
   "outputs": [
    {
     "name": "stdout",
     "output_type": "stream",
     "text": [
      "     timestep  avg_diff  cen_diff\n",
      "0        0.00   0.00000   0.00000\n",
      "1        0.01   9.62963   0.00000\n",
      "2        0.02   9.73333   2.80000\n",
      "3        0.03   9.80593   4.76000\n",
      "4        0.04   9.85674   6.13200\n",
      "..        ...       ...       ...\n",
      "995      9.95   9.97531   9.33333\n",
      "996      9.96   9.97531   9.33333\n",
      "997      9.97   9.97531   9.33333\n",
      "998      9.98   9.97531   9.33333\n",
      "999      9.99   9.97531   9.33333\n",
      "\n",
      "[1000 rows x 3 columns]\n"
     ]
    },
    {
     "name": "stderr",
     "output_type": "stream",
     "text": [
      "/tmp/ipykernel_6369/2921484993.py:11: SettingWithCopyWarning: \n",
      "A value is trying to be set on a copy of a slice from a DataFrame\n",
      "\n",
      "See the caveats in the documentation: https://pandas.pydata.org/pandas-docs/stable/user_guide/indexing.html#returning-a-view-versus-a-copy\n"
     ]
    }
   ],
   "source": [
    "def get_biodynamo_df(file):\n",
    "    df= pd.read_csv(file,index_col=None,header=None,sep = \" \",names = ['timestep','avg_diff','cen_diff'])\n",
    "    print(df)\n",
    "    # df['timestep'] = df.index /100\n",
    "    # df = pd.DataFrame(df[[14,'timestep']])\n",
    "    timesteps = np.concatenate((np.linspace(0, 1, num=11)[:-1], np.arange(1, 11, 1),[9.99]))\n",
    "    timesteps_rounded = np.round(timesteps, 2)\n",
    "    df['timestep_rounded'] = df['timestep'].round(2)\n",
    "    selected_rows = df[df['timestep_rounded'].isin(timesteps_rounded)]\n",
    "    # selected_rows.rename(columns={14: 'diff'}, inplace=True)\n",
    "    selected_rows.drop('timestep_rounded', axis=1, inplace=True)\n",
    "    return selected_rows\n",
    "\n",
    "bd_conc = get_biodynamo_df(\"../Biodynamo/unit_test_diffusion_small/data.csv\")\n"
   ]
  },
  {
   "cell_type": "code",
   "execution_count": null,
   "metadata": {},
   "outputs": [
    {
     "name": "stdout",
     "output_type": "stream",
     "text": [
      "     timestep     diff\n",
      "0         0.0  0.00000\n",
      "1         0.2  8.55513\n",
      "2         0.3  9.17484\n",
      "3         0.4  9.29516\n",
      "4         0.5  9.31852\n",
      "..        ...      ...\n",
      "117      11.8  9.32414\n",
      "118      11.9  9.32414\n",
      "119      12.0  9.32414\n",
      "120      12.1  9.32414\n",
      "121      12.2  9.32414\n",
      "\n",
      "[122 rows x 2 columns]\n"
     ]
    },
    {
     "name": "stderr",
     "output_type": "stream",
     "text": [
      "/tmp/ipykernel_6369/1571290177.py:11: SettingWithCopyWarning: \n",
      "A value is trying to be set on a copy of a slice from a DataFrame\n",
      "\n",
      "See the caveats in the documentation: https://pandas.pydata.org/pandas-docs/stable/user_guide/indexing.html#returning-a-view-versus-a-copy\n"
     ]
    }
   ],
   "source": [
    "def get_tisim_df(file):\n",
    "    # df= pd.read_csv(file,delimiter=\"\\t\",names = ['timestep','diff'],header=0)\n",
    "    df= pd.read_csv(file,delimiter=\"\\t\",usecols=[0,14],names = ['timestep','diff'],header=0)\n",
    "    new_row = pd.Series([0, 0])\n",
    "    df.loc[0]=[0,0]\n",
    "    print(df)\n",
    "    timesteps = np.concatenate((np.linspace(0, 1, num=11)[:-1], np.arange(1, 11, 1)))\n",
    "    timesteps_rounded = np.round(timesteps, 2)\n",
    "    df['timestep_rounded'] = df['timestep'].round(2)\n",
    "    selected_rows = df[df['timestep_rounded'].isin(timesteps_rounded)]\n",
    "    selected_rows.drop('timestep_rounded', axis=1, inplace=True)\n",
    "    # df.rename(columns={'Concentration (uM)': 'diff'}, inplace=True)\n",
    "    return selected_rows\n",
    "\n",
    "ts_conc = get_tisim_df(\"../Tisim/unit_test_diffusion/results/arnau_diffusion1.txt\")\n"
   ]
  },
  {
   "cell_type": "code",
   "execution_count": 12,
   "metadata": {},
   "outputs": [],
   "source": [
    "def get_chaste_df(file):\n",
    "    # df= pd.read_csv(file,delim_whitespace=True,names = ['timestep','diff'],header=0)\n",
    "    df= pd.read_csv(file, sep='\\\\s+',names = ['timestep','diff'],header=0)\n",
    "    timesteps = np.concatenate((np.linspace(0, 1, num=11)[:-1], np.arange(1, 11, 1)))\n",
    "    timesteps_rounded = np.round(timesteps, 2)\n",
    "    df['timestep_rounded'] = df['timestep'].round(2)\n",
    "    selected_rows = df[df['timestep_rounded'].isin(timesteps_rounded)]\n",
    "\n",
    "    return selected_rows\n",
    "\n",
    "ch_conc = get_chaste_df(\"../Chaste/unit_test_diffusion/results/TestDiffusionSmall03.dat\")"
   ]
  },
  {
   "cell_type": "code",
   "execution_count": null,
   "metadata": {},
   "outputs": [
    {
     "name": "stdout",
     "output_type": "stream",
     "text": [
      "  Name                                 Age\n",
      "0   BD  cen_diff    9.33333\n",
      "dtype: float64\n",
      "1   CH     diff    9.560771\n",
      "dtype: float64\n",
      "2   PC     diff    9.407045\n",
      "dtype: float64\n",
      "3   TS      diff    9.32414\n",
      "dtype: float64\n"
     ]
    }
   ],
   "source": [
    "# bd_conc.filter(like='cen_diff').max(axis=0)\n",
    "# ch_conc.filter(like='diff').max(axis=0)\n",
    "# pc_conc.filter(like='diff').max(axis=0)/602.2\n",
    "# ts_conc.filter(like='diff').max(axis=0)\n",
    "# Create a DataFrame with the data\n",
    "data = {'Name': ['BD', 'CH', 'PC', 'TS'],\n",
    "        'Age': [bd_conc.filter(like='cen_diff').max(axis=0), \n",
    "                ch_conc.filter(like='diff').max(axis=0), \n",
    "                pc_conc.filter(like='diff').max(axis=0)/602.2, \n",
    "                ts_conc.filter(like='diff').max(axis=0)\n",
    "                ]}\n",
    "\n",
    "# Create DataFrame\n",
    "diff_df = pd.DataFrame(data)\n",
    "\n",
    "print(diff_df)\n"
   ]
  },
  {
   "cell_type": "code",
   "execution_count": null,
   "metadata": {},
   "outputs": [],
   "source": [
    "# parse   r = argparse.ArgumentParser(description=\"Create folders from input paths.\")\n",
    "# Specify at least 3 folder paths as arguments\n",
    "# parser.add_argument(\"--pc-csv\", action=\"store\", dest = \"pc_csv\",help=\"Path to the PhysiCell concentration over time csv. If not existing need to generate with many_analysis.py script\",\n",
    "#                     default=\"\")\n",
    "# #  action=\"store\", dest = \"data_folder\",help=\"folder were the output data is stored\",default=\"results/\"\n",
    "# parser.add_argument(\"--bd-csv\",action=\"store\", dest = \"bd_csv\" ,help=\"Path to BioDynaMo concentration over time csv\",\n",
    "#                 default=)\n",
    "# parser.add_argument(\"--ts-csv\",action=\"store\", dest = \"ts_csv\", help=\"Path to TiSim concentration over time csv\",\n",
    "#                 default=)\n",
    "# parser.add_argument(\"--ch-csv\",action=\"store\",dest = \"ch_csv\", help=\"Path to Chaste concentration over time csv\",\n",
    "#                     default=)\n",
    "\n",
    "# args = parser.parse_args()\n"
   ]
  },
  {
   "cell_type": "code",
   "execution_count": 16,
   "metadata": {},
   "outputs": [
    {
     "data": {
      "image/png": "[encoded data removed]",
      "text/plain": [
       "<Figure size 640x480 with 1 Axes>"
      ]
     },
     "metadata": {},
     "output_type": "display_data"
    }
   ],
   "source": [
    "# plt.plot(pc_conc['timestep'],pc_conc['diff'],label = 'Physicell',color='green',alpha=0.6)\n",
    "# plt.plot(pc_conc['timestep'],pc_conc['diff']/602.2*10,label = 'Physicell',color='green',alpha=0.6)\n",
    "plt.plot(pc_conc['timestep'],pc_conc['diff']/602.2,label = 'Physicell',color='green',alpha=0.6)\n",
    "# plt.plot(pc_df_v10['timestep'],pc_df_v10['diff']/602.2,label = 'Physicell vol 10',color='black',alpha=0.6)\n",
    "plt.plot(bd_conc['timestep'],bd_conc['cen_diff'],label = 'Biodynamo',alpha=0.5,color = 'red')\n",
    "plt.plot(ts_conc['timestep'],ts_conc['diff'],label = 'TiSim', color  = '#ffd343',alpha=0.6)\n",
    "plt.plot(ch_conc['timestep'],ch_conc['diff'],label = 'Chaste', color  = 'blue',alpha = 0.5)\n",
    "plt.ylabel(\"Concentration (μM)\")\n",
    "plt.xlabel(\"Time (minutes)\")\n",
    "plt.legend()\n",
    "plt.title(\"Diffusion one cell as sink : Oxygen concentration in Central Voxel\")\n",
    "# plt.savefig(\"./updated_concentration.png\",dpi=200)\n",
    "plt.show()\n",
    "# if __name__ == \"__main__\":\n",
    "# main()"
   ]
  }
 ],
 "metadata": {
  "kernelspec": {
   "display_name": "studio",
   "language": "python",
   "name": "python3"
  },
  "language_info": {
   "codemirror_mode": {
    "name": "ipython",
    "version": 3
   },
   "file_extension": ".py",
   "mimetype": "text/x-python",
   "name": "python",
   "nbconvert_exporter": "python",
   "pygments_lexer": "ipython3",
   "version": "3.13.2"
  }
 },
 "nbformat": 4,
 "nbformat_minor": 2
}
