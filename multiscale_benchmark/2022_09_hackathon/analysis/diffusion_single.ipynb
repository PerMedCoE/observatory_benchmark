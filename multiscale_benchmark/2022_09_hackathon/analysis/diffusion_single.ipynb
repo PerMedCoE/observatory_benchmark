{
 "cells": [
  {
   "cell_type": "code",
   "execution_count": 35,
   "metadata": {},
   "outputs": [],
   "source": [
    "import argparse\n",
    "import os\n",
    "import numpy as np\n",
    "import pandas as pd\n",
    "import matplotlib.pyplot as plt\n",
    "from sklearn.preprocessing import MinMaxScaler, StandardScaler\n",
    "pd.set_option('display.float_format', lambda x: '%.5f' % x)"
   ]
  },
  {
   "cell_type": "code",
   "execution_count": 36,
   "metadata": {},
   "outputs": [
    {
     "data": {
      "text/plain": [
       "array([ 0. ,  0.1,  0.2,  0.3,  0.4,  0.5,  0.6,  0.7,  0.8,  0.9,  1. ,\n",
       "        2. ,  3. ,  4. ,  5. ,  6. ,  7. ,  8. ,  9. , 10. ])"
      ]
     },
     "execution_count": 36,
     "metadata": {},
     "output_type": "execute_result"
    }
   ],
   "source": [
    "file = \"../Physicell/output/new_results/diffusion_single_001/microenv_single_diffusion.csv\"\n",
    "pc_df= pd.read_csv(file,index_col=0)\n",
    "pc_df = pc_df.loc[pc_df.index == 13]\n",
    "timesteps = np.concatenate((np.linspace(0, 1, num=11)[:-1], np.arange(1, 11, 1)))\n",
    "timesteps\n"
   ]
  },
  {
   "cell_type": "code",
   "execution_count": 37,
   "metadata": {},
   "outputs": [
    {
     "data": {
      "text/html": [
       "<div>\n",
       "<style scoped>\n",
       "    .dataframe tbody tr th:only-of-type {\n",
       "        vertical-align: middle;\n",
       "    }\n",
       "\n",
       "    .dataframe tbody tr th {\n",
       "        vertical-align: top;\n",
       "    }\n",
       "\n",
       "    .dataframe thead th {\n",
       "        text-align: right;\n",
       "    }\n",
       "</style>\n",
       "<table border=\"1\" class=\"dataframe\">\n",
       "  <thead>\n",
       "    <tr style=\"text-align: right;\">\n",
       "      <th></th>\n",
       "      <th>x</th>\n",
       "      <th>y</th>\n",
       "      <th>z</th>\n",
       "      <th>vol</th>\n",
       "      <th>diff</th>\n",
       "      <th>timestep</th>\n",
       "    </tr>\n",
       "  </thead>\n",
       "  <tbody>\n",
       "    <tr>\n",
       "      <th>13</th>\n",
       "      <td>0.00000</td>\n",
       "      <td>0.00000</td>\n",
       "      <td>0.00000</td>\n",
       "      <td>8000.00000</td>\n",
       "      <td>0.00000</td>\n",
       "      <td>0.00000</td>\n",
       "    </tr>\n",
       "    <tr>\n",
       "      <th>13</th>\n",
       "      <td>0.00000</td>\n",
       "      <td>0.00000</td>\n",
       "      <td>0.00000</td>\n",
       "      <td>8000.00000</td>\n",
       "      <td>1416.97856</td>\n",
       "      <td>0.01000</td>\n",
       "    </tr>\n",
       "    <tr>\n",
       "      <th>13</th>\n",
       "      <td>0.00000</td>\n",
       "      <td>0.00000</td>\n",
       "      <td>0.00000</td>\n",
       "      <td>8000.00000</td>\n",
       "      <td>2479.52539</td>\n",
       "      <td>0.02000</td>\n",
       "    </tr>\n",
       "    <tr>\n",
       "      <th>13</th>\n",
       "      <td>0.00000</td>\n",
       "      <td>0.00000</td>\n",
       "      <td>0.00000</td>\n",
       "      <td>8000.00000</td>\n",
       "      <td>3276.29522</td>\n",
       "      <td>0.03000</td>\n",
       "    </tr>\n",
       "    <tr>\n",
       "      <th>13</th>\n",
       "      <td>0.00000</td>\n",
       "      <td>0.00000</td>\n",
       "      <td>0.00000</td>\n",
       "      <td>8000.00000</td>\n",
       "      <td>3873.76739</td>\n",
       "      <td>0.04000</td>\n",
       "    </tr>\n",
       "    <tr>\n",
       "      <th>...</th>\n",
       "      <td>...</td>\n",
       "      <td>...</td>\n",
       "      <td>...</td>\n",
       "      <td>...</td>\n",
       "      <td>...</td>\n",
       "      <td>...</td>\n",
       "    </tr>\n",
       "    <tr>\n",
       "      <th>13</th>\n",
       "      <td>0.00000</td>\n",
       "      <td>0.00000</td>\n",
       "      <td>0.00000</td>\n",
       "      <td>8000.00000</td>\n",
       "      <td>5664.92239</td>\n",
       "      <td>9.96000</td>\n",
       "    </tr>\n",
       "    <tr>\n",
       "      <th>13</th>\n",
       "      <td>0.00000</td>\n",
       "      <td>0.00000</td>\n",
       "      <td>0.00000</td>\n",
       "      <td>8000.00000</td>\n",
       "      <td>5664.92239</td>\n",
       "      <td>9.97000</td>\n",
       "    </tr>\n",
       "    <tr>\n",
       "      <th>13</th>\n",
       "      <td>0.00000</td>\n",
       "      <td>0.00000</td>\n",
       "      <td>0.00000</td>\n",
       "      <td>8000.00000</td>\n",
       "      <td>5664.92239</td>\n",
       "      <td>9.98000</td>\n",
       "    </tr>\n",
       "    <tr>\n",
       "      <th>13</th>\n",
       "      <td>0.00000</td>\n",
       "      <td>0.00000</td>\n",
       "      <td>0.00000</td>\n",
       "      <td>8000.00000</td>\n",
       "      <td>5664.92239</td>\n",
       "      <td>9.99000</td>\n",
       "    </tr>\n",
       "    <tr>\n",
       "      <th>13</th>\n",
       "      <td>0.00000</td>\n",
       "      <td>0.00000</td>\n",
       "      <td>0.00000</td>\n",
       "      <td>8000.00000</td>\n",
       "      <td>5664.92239</td>\n",
       "      <td>10.00000</td>\n",
       "    </tr>\n",
       "  </tbody>\n",
       "</table>\n",
       "<p>1001 rows × 6 columns</p>\n",
       "</div>"
      ],
      "text/plain": [
       "         x       y       z        vol       diff  timestep\n",
       "13 0.00000 0.00000 0.00000 8000.00000    0.00000   0.00000\n",
       "13 0.00000 0.00000 0.00000 8000.00000 1416.97856   0.01000\n",
       "13 0.00000 0.00000 0.00000 8000.00000 2479.52539   0.02000\n",
       "13 0.00000 0.00000 0.00000 8000.00000 3276.29522   0.03000\n",
       "13 0.00000 0.00000 0.00000 8000.00000 3873.76739   0.04000\n",
       "..     ...     ...     ...        ...        ...       ...\n",
       "13 0.00000 0.00000 0.00000 8000.00000 5664.92239   9.96000\n",
       "13 0.00000 0.00000 0.00000 8000.00000 5664.92239   9.97000\n",
       "13 0.00000 0.00000 0.00000 8000.00000 5664.92239   9.98000\n",
       "13 0.00000 0.00000 0.00000 8000.00000 5664.92239   9.99000\n",
       "13 0.00000 0.00000 0.00000 8000.00000 5664.92239  10.00000\n",
       "\n",
       "[1001 rows x 6 columns]"
      ]
     },
     "execution_count": 37,
     "metadata": {},
     "output_type": "execute_result"
    }
   ],
   "source": [
    "\n",
    "timesteps_rounded = np.round(timesteps, 2)\n",
    "pc_df['timestep'] = pc_df['timestep'].round(2)\n",
    "# selected_rows = pc_df[pc_df['timestep_rounded'].isin(timesteps_rounded)]\n",
    "# pc_sr = selected_rows.drop('timestep_rounded', axis=1)\n",
    "pc_df\n",
    "# pc_sr"
   ]
  },
  {
   "cell_type": "code",
   "execution_count": 38,
   "metadata": {},
   "outputs": [],
   "source": [
    "file = \"../Biodynamo/unit_test_diffusion_small/data.csv\"\n",
    "bd_df= pd.read_csv(file,index_col=None,header=None,sep = \" \",names = ['timestep','avg_diff','cen_diff'])\n",
    "# df['timestep'] = df.index /100"
   ]
  },
  {
   "cell_type": "code",
   "execution_count": 39,
   "metadata": {},
   "outputs": [
    {
     "data": {
      "text/html": [
       "<div>\n",
       "<style scoped>\n",
       "    .dataframe tbody tr th:only-of-type {\n",
       "        vertical-align: middle;\n",
       "    }\n",
       "\n",
       "    .dataframe tbody tr th {\n",
       "        vertical-align: top;\n",
       "    }\n",
       "\n",
       "    .dataframe thead th {\n",
       "        text-align: right;\n",
       "    }\n",
       "</style>\n",
       "<table border=\"1\" class=\"dataframe\">\n",
       "  <thead>\n",
       "    <tr style=\"text-align: right;\">\n",
       "      <th></th>\n",
       "      <th>timestep</th>\n",
       "      <th>avg_diff</th>\n",
       "      <th>cen_diff</th>\n",
       "      <th>timestep_rounded</th>\n",
       "    </tr>\n",
       "  </thead>\n",
       "  <tbody>\n",
       "    <tr>\n",
       "      <th>0</th>\n",
       "      <td>0.00000</td>\n",
       "      <td>0.00000</td>\n",
       "      <td>0.00000</td>\n",
       "      <td>0.00000</td>\n",
       "    </tr>\n",
       "    <tr>\n",
       "      <th>1</th>\n",
       "      <td>0.01000</td>\n",
       "      <td>9.62963</td>\n",
       "      <td>0.00000</td>\n",
       "      <td>0.01000</td>\n",
       "    </tr>\n",
       "    <tr>\n",
       "      <th>2</th>\n",
       "      <td>0.02000</td>\n",
       "      <td>9.73333</td>\n",
       "      <td>2.80000</td>\n",
       "      <td>0.02000</td>\n",
       "    </tr>\n",
       "    <tr>\n",
       "      <th>3</th>\n",
       "      <td>0.03000</td>\n",
       "      <td>9.80593</td>\n",
       "      <td>4.76000</td>\n",
       "      <td>0.03000</td>\n",
       "    </tr>\n",
       "    <tr>\n",
       "      <th>4</th>\n",
       "      <td>0.04000</td>\n",
       "      <td>9.85674</td>\n",
       "      <td>6.13200</td>\n",
       "      <td>0.04000</td>\n",
       "    </tr>\n",
       "    <tr>\n",
       "      <th>...</th>\n",
       "      <td>...</td>\n",
       "      <td>...</td>\n",
       "      <td>...</td>\n",
       "      <td>...</td>\n",
       "    </tr>\n",
       "    <tr>\n",
       "      <th>995</th>\n",
       "      <td>9.95000</td>\n",
       "      <td>9.97531</td>\n",
       "      <td>9.33333</td>\n",
       "      <td>9.95000</td>\n",
       "    </tr>\n",
       "    <tr>\n",
       "      <th>996</th>\n",
       "      <td>9.96000</td>\n",
       "      <td>9.97531</td>\n",
       "      <td>9.33333</td>\n",
       "      <td>9.96000</td>\n",
       "    </tr>\n",
       "    <tr>\n",
       "      <th>997</th>\n",
       "      <td>9.97000</td>\n",
       "      <td>9.97531</td>\n",
       "      <td>9.33333</td>\n",
       "      <td>9.97000</td>\n",
       "    </tr>\n",
       "    <tr>\n",
       "      <th>998</th>\n",
       "      <td>9.98000</td>\n",
       "      <td>9.97531</td>\n",
       "      <td>9.33333</td>\n",
       "      <td>9.98000</td>\n",
       "    </tr>\n",
       "    <tr>\n",
       "      <th>999</th>\n",
       "      <td>9.99000</td>\n",
       "      <td>9.97531</td>\n",
       "      <td>9.33333</td>\n",
       "      <td>9.99000</td>\n",
       "    </tr>\n",
       "  </tbody>\n",
       "</table>\n",
       "<p>1000 rows × 4 columns</p>\n",
       "</div>"
      ],
      "text/plain": [
       "     timestep  avg_diff  cen_diff  timestep_rounded\n",
       "0     0.00000   0.00000   0.00000           0.00000\n",
       "1     0.01000   9.62963   0.00000           0.01000\n",
       "2     0.02000   9.73333   2.80000           0.02000\n",
       "3     0.03000   9.80593   4.76000           0.03000\n",
       "4     0.04000   9.85674   6.13200           0.04000\n",
       "..        ...       ...       ...               ...\n",
       "995   9.95000   9.97531   9.33333           9.95000\n",
       "996   9.96000   9.97531   9.33333           9.96000\n",
       "997   9.97000   9.97531   9.33333           9.97000\n",
       "998   9.98000   9.97531   9.33333           9.98000\n",
       "999   9.99000   9.97531   9.33333           9.99000\n",
       "\n",
       "[1000 rows x 4 columns]"
      ]
     },
     "execution_count": 39,
     "metadata": {},
     "output_type": "execute_result"
    }
   ],
   "source": [
    "# df = pd.DataFrame(df[[14,'timestep']])\n",
    "timesteps = np.concatenate((np.linspace(0, 1, num=11)[:-1], np.arange(1, 11, 1),[9.99]))\n",
    "timesteps_rounded = np.round(timesteps, 2)\n",
    "bd_df['timestep_rounded'] = bd_df['timestep'].round(2)\n",
    "selected_rows = bd_df[bd_df['timestep_rounded'].isin(timesteps_rounded)]\n",
    "bd_df\n",
    "# selected_rows"
   ]
  },
  {
   "cell_type": "code",
   "execution_count": 40,
   "metadata": {},
   "outputs": [
    {
     "data": {
      "text/html": [
       "<div>\n",
       "<style scoped>\n",
       "    .dataframe tbody tr th:only-of-type {\n",
       "        vertical-align: middle;\n",
       "    }\n",
       "\n",
       "    .dataframe tbody tr th {\n",
       "        vertical-align: top;\n",
       "    }\n",
       "\n",
       "    .dataframe thead th {\n",
       "        text-align: right;\n",
       "    }\n",
       "</style>\n",
       "<table border=\"1\" class=\"dataframe\">\n",
       "  <thead>\n",
       "    <tr style=\"text-align: right;\">\n",
       "      <th></th>\n",
       "      <th>timestep</th>\n",
       "      <th>diff</th>\n",
       "    </tr>\n",
       "  </thead>\n",
       "  <tbody>\n",
       "    <tr>\n",
       "      <th>0</th>\n",
       "      <td>0.00000</td>\n",
       "      <td>0.00000</td>\n",
       "    </tr>\n",
       "    <tr>\n",
       "      <th>1</th>\n",
       "      <td>0.01000</td>\n",
       "      <td>0.14808</td>\n",
       "    </tr>\n",
       "    <tr>\n",
       "      <th>2</th>\n",
       "      <td>0.02000</td>\n",
       "      <td>0.20830</td>\n",
       "    </tr>\n",
       "    <tr>\n",
       "      <th>3</th>\n",
       "      <td>0.03000</td>\n",
       "      <td>0.79144</td>\n",
       "    </tr>\n",
       "    <tr>\n",
       "      <th>4</th>\n",
       "      <td>0.04000</td>\n",
       "      <td>1.49762</td>\n",
       "    </tr>\n",
       "    <tr>\n",
       "      <th>...</th>\n",
       "      <td>...</td>\n",
       "      <td>...</td>\n",
       "    </tr>\n",
       "    <tr>\n",
       "      <th>1197</th>\n",
       "      <td>11.97000</td>\n",
       "      <td>9.35545</td>\n",
       "    </tr>\n",
       "    <tr>\n",
       "      <th>1198</th>\n",
       "      <td>11.98000</td>\n",
       "      <td>9.35545</td>\n",
       "    </tr>\n",
       "    <tr>\n",
       "      <th>1199</th>\n",
       "      <td>11.99000</td>\n",
       "      <td>9.35545</td>\n",
       "    </tr>\n",
       "    <tr>\n",
       "      <th>1200</th>\n",
       "      <td>12.00000</td>\n",
       "      <td>9.35545</td>\n",
       "    </tr>\n",
       "    <tr>\n",
       "      <th>1201</th>\n",
       "      <td>12.01000</td>\n",
       "      <td>9.35545</td>\n",
       "    </tr>\n",
       "  </tbody>\n",
       "</table>\n",
       "<p>1202 rows × 2 columns</p>\n",
       "</div>"
      ],
      "text/plain": [
       "      timestep    diff\n",
       "0      0.00000 0.00000\n",
       "1      0.01000 0.14808\n",
       "2      0.02000 0.20830\n",
       "3      0.03000 0.79144\n",
       "4      0.04000 1.49762\n",
       "...        ...     ...\n",
       "1197  11.97000 9.35545\n",
       "1198  11.98000 9.35545\n",
       "1199  11.99000 9.35545\n",
       "1200  12.00000 9.35545\n",
       "1201  12.01000 9.35545\n",
       "\n",
       "[1202 rows x 2 columns]"
      ]
     },
     "execution_count": 40,
     "metadata": {},
     "output_type": "execute_result"
    }
   ],
   "source": [
    "file = \"../Tisim/unit_test_diffusion/results/diffusion_1_cell.csv\"\n",
    "ts_df= pd.read_csv(file,names = ['timestep','diff'],header=0)\n",
    "\n",
    "# df= pd.read_csv(file,delimiter=\"\\t\",usecols=[0,14],names = ['timestep','diff'],header=0)\n",
    "ts_df = pd.concat([pd.DataFrame({\"timestep\": [0],\"diff\":[0]}), ts_df], ignore_index=True)\n",
    "# timesteps = np.concatenate((np.linspace(0, 1, num=11)[:-1], np.arange(1, 11, 1)))\n",
    "# timesteps_rounded = np.round(timesteps, 2)\n",
    "# ts_df['timestep_rounded'] = ts_df['timestep'].round(2)\n",
    "# ts_df = ts_df[ts_df['timestep_rounded'].isin(timesteps_rounded)]\n",
    "ts_df"
   ]
  },
  {
   "cell_type": "code",
   "execution_count": 41,
   "metadata": {},
   "outputs": [
    {
     "data": {
      "text/html": [
       "<div>\n",
       "<style scoped>\n",
       "    .dataframe tbody tr th:only-of-type {\n",
       "        vertical-align: middle;\n",
       "    }\n",
       "\n",
       "    .dataframe tbody tr th {\n",
       "        vertical-align: top;\n",
       "    }\n",
       "\n",
       "    .dataframe thead th {\n",
       "        text-align: right;\n",
       "    }\n",
       "</style>\n",
       "<table border=\"1\" class=\"dataframe\">\n",
       "  <thead>\n",
       "    <tr style=\"text-align: right;\">\n",
       "      <th></th>\n",
       "      <th>timestep</th>\n",
       "      <th>diff</th>\n",
       "      <th>timestep_rounded</th>\n",
       "    </tr>\n",
       "  </thead>\n",
       "  <tbody>\n",
       "    <tr>\n",
       "      <th>0</th>\n",
       "      <td>0.00000</td>\n",
       "      <td>0.00000</td>\n",
       "      <td>0.00000</td>\n",
       "    </tr>\n",
       "    <tr>\n",
       "      <th>1</th>\n",
       "      <td>0.01000</td>\n",
       "      <td>2.39024</td>\n",
       "      <td>0.01000</td>\n",
       "    </tr>\n",
       "    <tr>\n",
       "      <th>2</th>\n",
       "      <td>0.02000</td>\n",
       "      <td>4.18291</td>\n",
       "      <td>0.02000</td>\n",
       "    </tr>\n",
       "    <tr>\n",
       "      <th>3</th>\n",
       "      <td>0.03000</td>\n",
       "      <td>5.52742</td>\n",
       "      <td>0.03000</td>\n",
       "    </tr>\n",
       "    <tr>\n",
       "      <th>4</th>\n",
       "      <td>0.04000</td>\n",
       "      <td>6.53580</td>\n",
       "      <td>0.04000</td>\n",
       "    </tr>\n",
       "    <tr>\n",
       "      <th>...</th>\n",
       "      <td>...</td>\n",
       "      <td>...</td>\n",
       "      <td>...</td>\n",
       "    </tr>\n",
       "    <tr>\n",
       "      <th>996</th>\n",
       "      <td>9.96000</td>\n",
       "      <td>9.56077</td>\n",
       "      <td>9.96000</td>\n",
       "    </tr>\n",
       "    <tr>\n",
       "      <th>997</th>\n",
       "      <td>9.97000</td>\n",
       "      <td>9.56077</td>\n",
       "      <td>9.97000</td>\n",
       "    </tr>\n",
       "    <tr>\n",
       "      <th>998</th>\n",
       "      <td>9.98000</td>\n",
       "      <td>9.56077</td>\n",
       "      <td>9.98000</td>\n",
       "    </tr>\n",
       "    <tr>\n",
       "      <th>999</th>\n",
       "      <td>9.99000</td>\n",
       "      <td>9.56077</td>\n",
       "      <td>9.99000</td>\n",
       "    </tr>\n",
       "    <tr>\n",
       "      <th>1000</th>\n",
       "      <td>10.00000</td>\n",
       "      <td>9.56077</td>\n",
       "      <td>10.00000</td>\n",
       "    </tr>\n",
       "  </tbody>\n",
       "</table>\n",
       "<p>1001 rows × 3 columns</p>\n",
       "</div>"
      ],
      "text/plain": [
       "      timestep    diff  timestep_rounded\n",
       "0      0.00000 0.00000           0.00000\n",
       "1      0.01000 2.39024           0.01000\n",
       "2      0.02000 4.18291           0.02000\n",
       "3      0.03000 5.52742           0.03000\n",
       "4      0.04000 6.53580           0.04000\n",
       "...        ...     ...               ...\n",
       "996    9.96000 9.56077           9.96000\n",
       "997    9.97000 9.56077           9.97000\n",
       "998    9.98000 9.56077           9.98000\n",
       "999    9.99000 9.56077           9.99000\n",
       "1000  10.00000 9.56077          10.00000\n",
       "\n",
       "[1001 rows x 3 columns]"
      ]
     },
     "execution_count": 41,
     "metadata": {},
     "output_type": "execute_result"
    }
   ],
   "source": [
    "file=\"../Chaste/unit_test_diffusion/results/TestDiffusionSmall03.dat\"\n",
    "ch_df= pd.read_csv(file,sep='\\s+',names = ['timestep','diff'],header=0)\n",
    "timesteps = np.concatenate((np.linspace(0, 1, num=11)[:-1], np.arange(1, 11, 1)))\n",
    "timesteps_rounded = np.round(timesteps, 2)\n",
    "ch_df['timestep_rounded'] = ch_df['timestep'].round(2)\n",
    "selected_rows = ch_df[ch_df['timestep_rounded'].isin(timesteps_rounded)]\n",
    "ch_df"
   ]
  },
  {
   "cell_type": "code",
   "execution_count": 42,
   "metadata": {},
   "outputs": [
    {
     "data": {
      "image/png": "[encoded data removed]",
      "text/plain": [
       "<Figure size 640x480 with 2 Axes>"
      ]
     },
     "metadata": {},
     "output_type": "display_data"
    }
   ],
   "source": [
    "plt.plot(pc_df['timestep'],pc_df['diff']/602.2,label = 'Physicell',color='green',alpha=0.6)\n",
    "plt.plot(bd_df['timestep'],bd_df['cen_diff'],label = 'Biodynamo',alpha=0.5,color = 'red')\n",
    "plt.plot(ts_df['timestep'],ts_df['diff'],label = 'TiSim', color  = '#ffd343',alpha=0.6)\n",
    "plt.plot(ch_df['timestep'],ch_df['diff'],label = 'Chaste', color  = 'blue',alpha = 0.5)\n",
    "# plt.plot(ground_truth['timestep'].round(2),ground_truth['diff'],label = 'Alya', color  = 'purple',alpha = 0.5)\n",
    "plt.ylabel(\"Concentration μM\")\n",
    "plt.xlabel(\"Time (minutes)\")\n",
    "plt.legend()\n",
    "plt.title(\"Diffusion one cell as sink : Oxygen concentration in Central Voxel\")\n",
    "ax_inset = plt.axes([0.55, 0.5, 0.3, 0.3])  # [left, bottom, width, height]\n",
    "ax_inset.plot(pc_df['timestep'], pc_df['diff'] / 602.2, color='green', alpha=0.6)\n",
    "ax_inset.plot(bd_df['timestep'], bd_df['cen_diff'], color='red', alpha=0.5)\n",
    "ax_inset.plot(ts_df['timestep'], ts_df['diff'], color='#ffd343', alpha=0.6)\n",
    "ax_inset.plot(ch_df['timestep'], ch_df['diff'], color='blue', alpha=0.5)\n",
    "\n",
    "# Set limits for the inset\n",
    "ax_inset.set_xlim(0, 0.5)\n",
    "ax_inset.set_ylim(bottom=0)  # Adjust as needed for your data\n",
    "\n",
    "# Optional: Add labels to the inset\n",
    "ax_inset.set_xlabel(\"Time (min)\")\n",
    "# ax_inset.set_ylabel(\"Concentration μM\")\n",
    "plt.savefig(\"./updated_concentration_one_cell.png\",dpi=200)\n",
    "plt.show()\n"
   ]
  },
  {
   "cell_type": "code",
   "execution_count": 43,
   "metadata": {},
   "outputs": [
    {
     "data": {
      "text/plain": [
       "np.float64(9.40704481511778)"
      ]
     },
     "execution_count": 43,
     "metadata": {},
     "output_type": "execute_result"
    }
   ],
   "source": [
    "max_pc = (pc_df['diff']/602.2).max()\n",
    "max_pc"
   ]
  },
  {
   "cell_type": "code",
   "execution_count": 44,
   "metadata": {},
   "outputs": [
    {
     "data": {
      "text/plain": [
       "np.float64(9.33333)"
      ]
     },
     "execution_count": 44,
     "metadata": {},
     "output_type": "execute_result"
    }
   ],
   "source": [
    "max_bd = bd_df['cen_diff'].max()\n",
    "max_bd"
   ]
  },
  {
   "cell_type": "code",
   "execution_count": 45,
   "metadata": {},
   "outputs": [
    {
     "data": {
      "text/plain": [
       "np.float64(9.56077142)"
      ]
     },
     "execution_count": 45,
     "metadata": {},
     "output_type": "execute_result"
    }
   ],
   "source": [
    "max_ch = ch_df['diff'].max()\n",
    "max_ch"
   ]
  },
  {
   "cell_type": "code",
   "execution_count": 48,
   "metadata": {},
   "outputs": [
    {
     "data": {
      "text/plain": [
       "np.float64(9.35545)"
      ]
     },
     "execution_count": 48,
     "metadata": {},
     "output_type": "execute_result"
    }
   ],
   "source": [
    "ts_max=ts_df['diff'].max()\n",
    "ts_max"
   ]
  },
  {
   "cell_type": "code",
   "execution_count": 49,
   "metadata": {},
   "outputs": [
    {
     "data": {
      "text/plain": [
       "np.float64(0.2274414199999999)"
      ]
     },
     "execution_count": 49,
     "metadata": {},
     "output_type": "execute_result"
    }
   ],
   "source": [
    "max_ch - max_bd"
   ]
  },
  {
   "cell_type": "code",
   "execution_count": null,
   "metadata": {},
   "outputs": [],
   "source": []
  }
 ],
 "metadata": {
  "kernelspec": {
   "display_name": "Python 3",
   "language": "python",
   "name": "python3"
  },
  "language_info": {
   "codemirror_mode": {
    "name": "ipython",
    "version": 3
   },
   "file_extension": ".py",
   "mimetype": "text/x-python",
   "name": "python",
   "nbconvert_exporter": "python",
   "pygments_lexer": "ipython3",
   "version": "3.10.12"
  }
 },
 "nbformat": 4,
 "nbformat_minor": 2
}
